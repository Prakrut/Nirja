{
 "cells": [
  {
   "cell_type": "code",
   "execution_count": 1,
   "metadata": {},
   "outputs": [],
   "source": [
    "import pandas as pd\n",
    "import matplotlib.pyplot as plt\n",
    "%matplotlib inline\n",
    "\n",
    "import tensorflow as tf\n",
    "import numpy as np\n",
    "import pandas as pd\n",
    "from tensorflow import keras\n",
    "from tensorflow.keras import layers\n",
    "\n",
    "from sklearn.model_selection import train_test_split\n",
    "# from numpy import np\n",
    "from tensorflow.keras.utils import to_categorical\n"
   ]
  },
  {
   "cell_type": "code",
   "execution_count": 2,
   "metadata": {},
   "outputs": [],
   "source": [
    "file_url = \"https://raw.githubusercontent.com/abtinshahidi/Foundation_applied_machine_learning/master/final/train_set.txt\"\n",
    "data = pd.read_csv(file_url, header = None, names = ['x1','x2','target'])"
   ]
  },
  {
   "cell_type": "code",
   "execution_count": 3,
   "metadata": {},
   "outputs": [
    {
     "data": {
      "text/html": [
       "<div>\n",
       "<style scoped>\n",
       "    .dataframe tbody tr th:only-of-type {\n",
       "        vertical-align: middle;\n",
       "    }\n",
       "\n",
       "    .dataframe tbody tr th {\n",
       "        vertical-align: top;\n",
       "    }\n",
       "\n",
       "    .dataframe thead th {\n",
       "        text-align: right;\n",
       "    }\n",
       "</style>\n",
       "<table border=\"1\" class=\"dataframe\">\n",
       "  <thead>\n",
       "    <tr style=\"text-align: right;\">\n",
       "      <th></th>\n",
       "      <th>x1</th>\n",
       "      <th>x2</th>\n",
       "      <th>target</th>\n",
       "    </tr>\n",
       "  </thead>\n",
       "  <tbody>\n",
       "    <tr>\n",
       "      <th>0</th>\n",
       "      <td>16.263398</td>\n",
       "      <td>13.299206</td>\n",
       "      <td>r</td>\n",
       "    </tr>\n",
       "    <tr>\n",
       "      <th>1</th>\n",
       "      <td>0.775408</td>\n",
       "      <td>23.986692</td>\n",
       "      <td>r</td>\n",
       "    </tr>\n",
       "    <tr>\n",
       "      <th>2</th>\n",
       "      <td>29.170503</td>\n",
       "      <td>-3.287474</td>\n",
       "      <td>r</td>\n",
       "    </tr>\n",
       "    <tr>\n",
       "      <th>3</th>\n",
       "      <td>6.739044</td>\n",
       "      <td>-28.033329</td>\n",
       "      <td>r</td>\n",
       "    </tr>\n",
       "    <tr>\n",
       "      <th>4</th>\n",
       "      <td>3.216100</td>\n",
       "      <td>22.013695</td>\n",
       "      <td>r</td>\n",
       "    </tr>\n",
       "    <tr>\n",
       "      <th>...</th>\n",
       "      <td>...</td>\n",
       "      <td>...</td>\n",
       "      <td>...</td>\n",
       "    </tr>\n",
       "    <tr>\n",
       "      <th>680</th>\n",
       "      <td>0.244329</td>\n",
       "      <td>19.916511</td>\n",
       "      <td>r</td>\n",
       "    </tr>\n",
       "    <tr>\n",
       "      <th>681</th>\n",
       "      <td>22.591032</td>\n",
       "      <td>-9.133996</td>\n",
       "      <td>r</td>\n",
       "    </tr>\n",
       "    <tr>\n",
       "      <th>682</th>\n",
       "      <td>-21.533493</td>\n",
       "      <td>-7.396731</td>\n",
       "      <td>r</td>\n",
       "    </tr>\n",
       "    <tr>\n",
       "      <th>683</th>\n",
       "      <td>5.699510</td>\n",
       "      <td>30.742204</td>\n",
       "      <td>r</td>\n",
       "    </tr>\n",
       "    <tr>\n",
       "      <th>684</th>\n",
       "      <td>11.732251</td>\n",
       "      <td>19.427124</td>\n",
       "      <td>r</td>\n",
       "    </tr>\n",
       "  </tbody>\n",
       "</table>\n",
       "<p>685 rows × 3 columns</p>\n",
       "</div>"
      ],
      "text/plain": [
       "            x1         x2 target\n",
       "0    16.263398  13.299206      r\n",
       "1     0.775408  23.986692      r\n",
       "2    29.170503  -3.287474      r\n",
       "3     6.739044 -28.033329      r\n",
       "4     3.216100  22.013695      r\n",
       "..         ...        ...    ...\n",
       "680   0.244329  19.916511      r\n",
       "681  22.591032  -9.133996      r\n",
       "682 -21.533493  -7.396731      r\n",
       "683   5.699510  30.742204      r\n",
       "684  11.732251  19.427124      r\n",
       "\n",
       "[685 rows x 3 columns]"
      ]
     },
     "execution_count": 3,
     "metadata": {},
     "output_type": "execute_result"
    }
   ],
   "source": [
    "data"
   ]
  },
  {
   "cell_type": "code",
   "execution_count": 59,
   "metadata": {},
   "outputs": [],
   "source": [
    "dataaframe['x3'] = dataaframe.x1**2"
   ]
  },
  {
   "cell_type": "code",
   "execution_count": 60,
   "metadata": {},
   "outputs": [
    {
     "data": {
      "text/html": [
       "<div>\n",
       "<style scoped>\n",
       "    .dataframe tbody tr th:only-of-type {\n",
       "        vertical-align: middle;\n",
       "    }\n",
       "\n",
       "    .dataframe tbody tr th {\n",
       "        vertical-align: top;\n",
       "    }\n",
       "\n",
       "    .dataframe thead th {\n",
       "        text-align: right;\n",
       "    }\n",
       "</style>\n",
       "<table border=\"1\" class=\"dataframe\">\n",
       "  <thead>\n",
       "    <tr style=\"text-align: right;\">\n",
       "      <th></th>\n",
       "      <th>x1</th>\n",
       "      <th>x2</th>\n",
       "      <th>target</th>\n",
       "      <th>x3</th>\n",
       "    </tr>\n",
       "  </thead>\n",
       "  <tbody>\n",
       "    <tr>\n",
       "      <th>0</th>\n",
       "      <td>16.263398</td>\n",
       "      <td>13.299206</td>\n",
       "      <td>r</td>\n",
       "      <td>264.498124</td>\n",
       "    </tr>\n",
       "    <tr>\n",
       "      <th>1</th>\n",
       "      <td>0.775408</td>\n",
       "      <td>23.986692</td>\n",
       "      <td>r</td>\n",
       "      <td>0.601257</td>\n",
       "    </tr>\n",
       "    <tr>\n",
       "      <th>2</th>\n",
       "      <td>29.170503</td>\n",
       "      <td>-3.287474</td>\n",
       "      <td>r</td>\n",
       "      <td>850.918251</td>\n",
       "    </tr>\n",
       "    <tr>\n",
       "      <th>3</th>\n",
       "      <td>6.739044</td>\n",
       "      <td>-28.033329</td>\n",
       "      <td>r</td>\n",
       "      <td>45.414707</td>\n",
       "    </tr>\n",
       "    <tr>\n",
       "      <th>4</th>\n",
       "      <td>3.216100</td>\n",
       "      <td>22.013695</td>\n",
       "      <td>r</td>\n",
       "      <td>10.343297</td>\n",
       "    </tr>\n",
       "    <tr>\n",
       "      <th>...</th>\n",
       "      <td>...</td>\n",
       "      <td>...</td>\n",
       "      <td>...</td>\n",
       "      <td>...</td>\n",
       "    </tr>\n",
       "    <tr>\n",
       "      <th>680</th>\n",
       "      <td>0.244329</td>\n",
       "      <td>19.916511</td>\n",
       "      <td>r</td>\n",
       "      <td>0.059697</td>\n",
       "    </tr>\n",
       "    <tr>\n",
       "      <th>681</th>\n",
       "      <td>22.591032</td>\n",
       "      <td>-9.133996</td>\n",
       "      <td>r</td>\n",
       "      <td>510.354718</td>\n",
       "    </tr>\n",
       "    <tr>\n",
       "      <th>682</th>\n",
       "      <td>-21.533493</td>\n",
       "      <td>-7.396731</td>\n",
       "      <td>r</td>\n",
       "      <td>463.691321</td>\n",
       "    </tr>\n",
       "    <tr>\n",
       "      <th>683</th>\n",
       "      <td>5.699510</td>\n",
       "      <td>30.742204</td>\n",
       "      <td>r</td>\n",
       "      <td>32.484417</td>\n",
       "    </tr>\n",
       "    <tr>\n",
       "      <th>684</th>\n",
       "      <td>11.732251</td>\n",
       "      <td>19.427124</td>\n",
       "      <td>r</td>\n",
       "      <td>137.645711</td>\n",
       "    </tr>\n",
       "  </tbody>\n",
       "</table>\n",
       "<p>685 rows × 4 columns</p>\n",
       "</div>"
      ],
      "text/plain": [
       "            x1         x2 target          x3\n",
       "0    16.263398  13.299206      r  264.498124\n",
       "1     0.775408  23.986692      r    0.601257\n",
       "2    29.170503  -3.287474      r  850.918251\n",
       "3     6.739044 -28.033329      r   45.414707\n",
       "4     3.216100  22.013695      r   10.343297\n",
       "..         ...        ...    ...         ...\n",
       "680   0.244329  19.916511      r    0.059697\n",
       "681  22.591032  -9.133996      r  510.354718\n",
       "682 -21.533493  -7.396731      r  463.691321\n",
       "683   5.699510  30.742204      r   32.484417\n",
       "684  11.732251  19.427124      r  137.645711\n",
       "\n",
       "[685 rows x 4 columns]"
      ]
     },
     "execution_count": 60,
     "metadata": {},
     "output_type": "execute_result"
    }
   ],
   "source": [
    "dataaframe"
   ]
  },
  {
   "cell_type": "code",
   "execution_count": 7,
   "metadata": {},
   "outputs": [],
   "source": [
    "dataframe = data.copy()"
   ]
  },
  {
   "cell_type": "code",
   "execution_count": 115,
   "metadata": {},
   "outputs": [
    {
     "data": {
      "text/html": [
       "<div>\n",
       "<style scoped>\n",
       "    .dataframe tbody tr th:only-of-type {\n",
       "        vertical-align: middle;\n",
       "    }\n",
       "\n",
       "    .dataframe tbody tr th {\n",
       "        vertical-align: top;\n",
       "    }\n",
       "\n",
       "    .dataframe thead th {\n",
       "        text-align: right;\n",
       "    }\n",
       "</style>\n",
       "<table border=\"1\" class=\"dataframe\">\n",
       "  <thead>\n",
       "    <tr style=\"text-align: right;\">\n",
       "      <th></th>\n",
       "      <th>x1</th>\n",
       "      <th>x2</th>\n",
       "      <th>b</th>\n",
       "      <th>g</th>\n",
       "      <th>r</th>\n",
       "    </tr>\n",
       "  </thead>\n",
       "  <tbody>\n",
       "    <tr>\n",
       "      <th>0</th>\n",
       "      <td>16.263398</td>\n",
       "      <td>13.299206</td>\n",
       "      <td>0</td>\n",
       "      <td>0</td>\n",
       "      <td>1</td>\n",
       "    </tr>\n",
       "    <tr>\n",
       "      <th>1</th>\n",
       "      <td>0.775408</td>\n",
       "      <td>23.986692</td>\n",
       "      <td>0</td>\n",
       "      <td>0</td>\n",
       "      <td>1</td>\n",
       "    </tr>\n",
       "    <tr>\n",
       "      <th>2</th>\n",
       "      <td>29.170503</td>\n",
       "      <td>-3.287474</td>\n",
       "      <td>0</td>\n",
       "      <td>0</td>\n",
       "      <td>1</td>\n",
       "    </tr>\n",
       "    <tr>\n",
       "      <th>3</th>\n",
       "      <td>6.739044</td>\n",
       "      <td>-28.033329</td>\n",
       "      <td>0</td>\n",
       "      <td>0</td>\n",
       "      <td>1</td>\n",
       "    </tr>\n",
       "    <tr>\n",
       "      <th>4</th>\n",
       "      <td>3.216100</td>\n",
       "      <td>22.013695</td>\n",
       "      <td>0</td>\n",
       "      <td>0</td>\n",
       "      <td>1</td>\n",
       "    </tr>\n",
       "    <tr>\n",
       "      <th>...</th>\n",
       "      <td>...</td>\n",
       "      <td>...</td>\n",
       "      <td>...</td>\n",
       "      <td>...</td>\n",
       "      <td>...</td>\n",
       "    </tr>\n",
       "    <tr>\n",
       "      <th>680</th>\n",
       "      <td>0.244329</td>\n",
       "      <td>19.916511</td>\n",
       "      <td>0</td>\n",
       "      <td>0</td>\n",
       "      <td>1</td>\n",
       "    </tr>\n",
       "    <tr>\n",
       "      <th>681</th>\n",
       "      <td>22.591032</td>\n",
       "      <td>-9.133996</td>\n",
       "      <td>0</td>\n",
       "      <td>0</td>\n",
       "      <td>1</td>\n",
       "    </tr>\n",
       "    <tr>\n",
       "      <th>682</th>\n",
       "      <td>-21.533493</td>\n",
       "      <td>-7.396731</td>\n",
       "      <td>0</td>\n",
       "      <td>0</td>\n",
       "      <td>1</td>\n",
       "    </tr>\n",
       "    <tr>\n",
       "      <th>683</th>\n",
       "      <td>5.699510</td>\n",
       "      <td>30.742204</td>\n",
       "      <td>0</td>\n",
       "      <td>0</td>\n",
       "      <td>1</td>\n",
       "    </tr>\n",
       "    <tr>\n",
       "      <th>684</th>\n",
       "      <td>11.732251</td>\n",
       "      <td>19.427124</td>\n",
       "      <td>0</td>\n",
       "      <td>0</td>\n",
       "      <td>1</td>\n",
       "    </tr>\n",
       "  </tbody>\n",
       "</table>\n",
       "<p>685 rows × 5 columns</p>\n",
       "</div>"
      ],
      "text/plain": [
       "            x1         x2  b  g  r\n",
       "0    16.263398  13.299206  0  0  1\n",
       "1     0.775408  23.986692  0  0  1\n",
       "2    29.170503  -3.287474  0  0  1\n",
       "3     6.739044 -28.033329  0  0  1\n",
       "4     3.216100  22.013695  0  0  1\n",
       "..         ...        ... .. .. ..\n",
       "680   0.244329  19.916511  0  0  1\n",
       "681  22.591032  -9.133996  0  0  1\n",
       "682 -21.533493  -7.396731  0  0  1\n",
       "683   5.699510  30.742204  0  0  1\n",
       "684  11.732251  19.427124  0  0  1\n",
       "\n",
       "[685 rows x 5 columns]"
      ]
     },
     "execution_count": 115,
     "metadata": {},
     "output_type": "execute_result"
    }
   ],
   "source": [
    "# dataframe = pd.concat([data.iloc[:,:-1],pd.get_dummies(data['target'])], axis = 1)\n",
    "# dataframe"
   ]
  },
  {
   "cell_type": "code",
   "execution_count": 8,
   "metadata": {},
   "outputs": [],
   "source": [
    "target_map = {\n",
    "    'r' : 0,\n",
    "    'g' : 1,\n",
    "    'b' : 2\n",
    "}"
   ]
  },
  {
   "cell_type": "code",
   "execution_count": 9,
   "metadata": {},
   "outputs": [],
   "source": [
    "dataframe.target = dataframe.target.map(target_map)"
   ]
  },
  {
   "cell_type": "code",
   "execution_count": 116,
   "metadata": {},
   "outputs": [],
   "source": [
    "dataframe.r = pd.Categorical(dataframe.r)\n",
    "dataframe.g = pd.Categorical(dataframe.g)\n",
    "dataframe.b = pd.Categorical(dataframe.b)"
   ]
  },
  {
   "cell_type": "code",
   "execution_count": 39,
   "metadata": {},
   "outputs": [
    {
     "data": {
      "text/html": [
       "<div>\n",
       "<style scoped>\n",
       "    .dataframe tbody tr th:only-of-type {\n",
       "        vertical-align: middle;\n",
       "    }\n",
       "\n",
       "    .dataframe tbody tr th {\n",
       "        vertical-align: top;\n",
       "    }\n",
       "\n",
       "    .dataframe thead th {\n",
       "        text-align: right;\n",
       "    }\n",
       "</style>\n",
       "<table border=\"1\" class=\"dataframe\">\n",
       "  <thead>\n",
       "    <tr style=\"text-align: right;\">\n",
       "      <th></th>\n",
       "      <th>x1</th>\n",
       "      <th>x2</th>\n",
       "      <th>target</th>\n",
       "    </tr>\n",
       "  </thead>\n",
       "  <tbody>\n",
       "    <tr>\n",
       "      <th>0</th>\n",
       "      <td>16.263398</td>\n",
       "      <td>13.299206</td>\n",
       "      <td>0</td>\n",
       "    </tr>\n",
       "    <tr>\n",
       "      <th>1</th>\n",
       "      <td>0.775408</td>\n",
       "      <td>23.986692</td>\n",
       "      <td>0</td>\n",
       "    </tr>\n",
       "    <tr>\n",
       "      <th>2</th>\n",
       "      <td>29.170503</td>\n",
       "      <td>-3.287474</td>\n",
       "      <td>0</td>\n",
       "    </tr>\n",
       "    <tr>\n",
       "      <th>3</th>\n",
       "      <td>6.739044</td>\n",
       "      <td>-28.033329</td>\n",
       "      <td>0</td>\n",
       "    </tr>\n",
       "    <tr>\n",
       "      <th>4</th>\n",
       "      <td>3.216100</td>\n",
       "      <td>22.013695</td>\n",
       "      <td>0</td>\n",
       "    </tr>\n",
       "    <tr>\n",
       "      <th>...</th>\n",
       "      <td>...</td>\n",
       "      <td>...</td>\n",
       "      <td>...</td>\n",
       "    </tr>\n",
       "    <tr>\n",
       "      <th>680</th>\n",
       "      <td>0.244329</td>\n",
       "      <td>19.916511</td>\n",
       "      <td>0</td>\n",
       "    </tr>\n",
       "    <tr>\n",
       "      <th>681</th>\n",
       "      <td>22.591032</td>\n",
       "      <td>-9.133996</td>\n",
       "      <td>0</td>\n",
       "    </tr>\n",
       "    <tr>\n",
       "      <th>682</th>\n",
       "      <td>-21.533493</td>\n",
       "      <td>-7.396731</td>\n",
       "      <td>0</td>\n",
       "    </tr>\n",
       "    <tr>\n",
       "      <th>683</th>\n",
       "      <td>5.699510</td>\n",
       "      <td>30.742204</td>\n",
       "      <td>0</td>\n",
       "    </tr>\n",
       "    <tr>\n",
       "      <th>684</th>\n",
       "      <td>11.732251</td>\n",
       "      <td>19.427124</td>\n",
       "      <td>0</td>\n",
       "    </tr>\n",
       "  </tbody>\n",
       "</table>\n",
       "<p>685 rows × 3 columns</p>\n",
       "</div>"
      ],
      "text/plain": [
       "            x1         x2  target\n",
       "0    16.263398  13.299206       0\n",
       "1     0.775408  23.986692       0\n",
       "2    29.170503  -3.287474       0\n",
       "3     6.739044 -28.033329       0\n",
       "4     3.216100  22.013695       0\n",
       "..         ...        ...     ...\n",
       "680   0.244329  19.916511       0\n",
       "681  22.591032  -9.133996       0\n",
       "682 -21.533493  -7.396731       0\n",
       "683   5.699510  30.742204       0\n",
       "684  11.732251  19.427124       0\n",
       "\n",
       "[685 rows x 3 columns]"
      ]
     },
     "execution_count": 39,
     "metadata": {},
     "output_type": "execute_result"
    }
   ],
   "source": [
    "dataframe"
   ]
  },
  {
   "cell_type": "code",
   "execution_count": 40,
   "metadata": {},
   "outputs": [],
   "source": [
    "counts = np.bincount(dataframe.iloc[:, -1])\n",
    "\n",
    "weight_for_r = 1.0 / counts[0]\n",
    "weight_for_g = 1.0 / counts[1]\n",
    "weight_for_b = 1.0 / counts[2]"
   ]
  },
  {
   "cell_type": "code",
   "execution_count": 88,
   "metadata": {},
   "outputs": [
    {
     "data": {
      "text/plain": [
       "(0.02, 0.02, 0.0017094017094017094)"
      ]
     },
     "execution_count": 88,
     "metadata": {},
     "output_type": "execute_result"
    }
   ],
   "source": [
    "weight_for_b, weight_for_g, weight_for_r"
   ]
  },
  {
   "cell_type": "code",
   "execution_count": 10,
   "metadata": {},
   "outputs": [],
   "source": [
    "dataframe.iloc[:,:1] = dataframe.iloc[:,:1].astype(float)"
   ]
  },
  {
   "cell_type": "code",
   "execution_count": null,
   "metadata": {},
   "outputs": [],
   "source": [
    "pd.Categorical"
   ]
  },
  {
   "cell_type": "code",
   "execution_count": 49,
   "metadata": {},
   "outputs": [
    {
     "name": "stdout",
     "output_type": "stream",
     "text": [
      "<class 'pandas.core.frame.DataFrame'>\n",
      "RangeIndex: 685 entries, 0 to 684\n",
      "Data columns (total 3 columns):\n",
      " #   Column  Non-Null Count  Dtype  \n",
      "---  ------  --------------  -----  \n",
      " 0   x1      685 non-null    float64\n",
      " 1   x2      685 non-null    float64\n",
      " 2   target  685 non-null    int64  \n",
      "dtypes: float64(2), int64(1)\n",
      "memory usage: 16.2 KB\n"
     ]
    }
   ],
   "source": [
    "dataframe.info()"
   ]
  },
  {
   "cell_type": "code",
   "execution_count": 13,
   "metadata": {},
   "outputs": [
    {
     "data": {
      "text/plain": [
       "array([[1., 0., 0.],\n",
       "       [1., 0., 0.],\n",
       "       [1., 0., 0.],\n",
       "       ...,\n",
       "       [1., 0., 0.],\n",
       "       [1., 0., 0.],\n",
       "       [1., 0., 0.]], dtype=float32)"
      ]
     },
     "execution_count": 13,
     "metadata": {},
     "output_type": "execute_result"
    }
   ],
   "source": [
    "to_categorical(dataframe.iloc[:,-1])"
   ]
  },
  {
   "cell_type": "code",
   "execution_count": 14,
   "metadata": {},
   "outputs": [],
   "source": [
    "X_train, X_test, Y_train, Y_test = train_test_split(dataframe.iloc[:,:2], to_categorical(dataframe.iloc[:,-1]), test_size = 0.3)"
   ]
  },
  {
   "cell_type": "code",
   "execution_count": 15,
   "metadata": {},
   "outputs": [],
   "source": [
    "tf.keras.backend.set_floatx('float64')"
   ]
  },
  {
   "cell_type": "code",
   "execution_count": 50,
   "metadata": {},
   "outputs": [],
   "source": [
    "model = tf.keras.models.Sequential()"
   ]
  },
  {
   "cell_type": "code",
   "execution_count": 51,
   "metadata": {},
   "outputs": [],
   "source": [
    "# model.add(tf.keras.layers.Dense(128, activation = 'relu'))\n",
    "# model.add(tf.keras.layers.Dropout(0.5))\n",
    "model.add(tf.keras.layers.Dense(64, activation = 'relu'))\n",
    "model.add(tf.keras.layers.Dropout(0.3))\n",
    "model.add(tf.keras.layers.Dense(32, activation = 'relu'))\n",
    "model.add(tf.keras.layers.Dropout(0.3))\n",
    "model.add(tf.keras.layers.Dense(3, activation = 'softmax'))\n"
   ]
  },
  {
   "cell_type": "code",
   "execution_count": 52,
   "metadata": {},
   "outputs": [],
   "source": [
    "metrics = [\n",
    "#     keras.metrics.FalseNegatives(name=\"fn\"),\n",
    "#     keras.metrics.FalsePositives(name=\"fp\"),\n",
    "#     keras.metrics.TrueNegatives(name=\"tn\"),\n",
    "#     keras.metrics.TruePositives(name=\"tp\"),\n",
    "    keras.metrics.Precision(name=\"precision\"),\n",
    "    keras.metrics.Recall(name=\"recall\"),\n",
    "    keras.metrics.Accuracy(name='accuracy'),\n",
    "    keras.metrics.CategoricalAccuracy(name=\"categorical_accuracy\")#, dtype=None),\n",
    "#     keras.metrics.\n",
    "\n",
    "]\n",
    "\n",
    "model.compile(\n",
    "    loss='categorical_crossentropy',#binary_crossentropy;categorical_crossentropy\n",
    "    optimizer='adam',\n",
    "    metrics=['accuracy']#metrics\n",
    ")\n"
   ]
  },
  {
   "cell_type": "code",
   "execution_count": null,
   "metadata": {},
   "outputs": [],
   "source": [
    "# tf.keras.optimizers."
   ]
  },
  {
   "cell_type": "code",
   "execution_count": 53,
   "metadata": {},
   "outputs": [
    {
     "name": "stdout",
     "output_type": "stream",
     "text": [
      "Epoch 1/20\n",
      " 1/24 [>.............................] - ETA: 0s - loss: 2.6274 - accuracy: 0.4375WARNING:tensorflow:Callbacks method `on_test_batch_begin` is slow compared to the batch time (batch time: 0.0000s vs `on_test_batch_begin` time: 0.0010s). Check your callbacks.\n",
      "24/24 [==============================] - 0s 8ms/step - loss: 1.4499 - accuracy: 0.6736 - val_loss: 1.4826 - val_accuracy: 0.8229\n",
      "Epoch 2/20\n",
      "24/24 [==============================] - 0s 2ms/step - loss: 1.1379 - accuracy: 0.7598 - val_loss: 1.2004 - val_accuracy: 0.8229\n",
      "Epoch 3/20\n",
      "24/24 [==============================] - 0s 2ms/step - loss: 0.9570 - accuracy: 0.7572 - val_loss: 1.1647 - val_accuracy: 0.8229\n",
      "Epoch 4/20\n",
      "24/24 [==============================] - 0s 2ms/step - loss: 0.9170 - accuracy: 0.7885 - val_loss: 1.1287 - val_accuracy: 0.8229\n",
      "Epoch 5/20\n",
      "24/24 [==============================] - 0s 2ms/step - loss: 0.8922 - accuracy: 0.7833 - val_loss: 0.9032 - val_accuracy: 0.8229\n",
      "Epoch 6/20\n",
      "24/24 [==============================] - 0s 2ms/step - loss: 0.8571 - accuracy: 0.7807 - val_loss: 0.8776 - val_accuracy: 0.8229\n",
      "Epoch 7/20\n",
      "24/24 [==============================] - 0s 3ms/step - loss: 0.8592 - accuracy: 0.7859 - val_loss: 0.7933 - val_accuracy: 0.8229\n",
      "Epoch 8/20\n",
      "24/24 [==============================] - 0s 2ms/step - loss: 0.6407 - accuracy: 0.8068 - val_loss: 0.7329 - val_accuracy: 0.8229\n",
      "Epoch 9/20\n",
      "24/24 [==============================] - 0s 2ms/step - loss: 0.6580 - accuracy: 0.7911 - val_loss: 0.6657 - val_accuracy: 0.8229\n",
      "Epoch 10/20\n",
      "24/24 [==============================] - 0s 3ms/step - loss: 0.5981 - accuracy: 0.8251 - val_loss: 0.6807 - val_accuracy: 0.8229\n",
      "Epoch 11/20\n",
      "24/24 [==============================] - 0s 2ms/step - loss: 0.5752 - accuracy: 0.8225 - val_loss: 0.6633 - val_accuracy: 0.8229\n",
      "Epoch 12/20\n",
      "24/24 [==============================] - 0s 3ms/step - loss: 0.5644 - accuracy: 0.8120 - val_loss: 0.6595 - val_accuracy: 0.8229\n",
      "Epoch 13/20\n",
      "24/24 [==============================] - 0s 2ms/step - loss: 0.6581 - accuracy: 0.8198 - val_loss: 0.5972 - val_accuracy: 0.8229\n",
      "Epoch 14/20\n",
      "24/24 [==============================] - 0s 2ms/step - loss: 0.5586 - accuracy: 0.8225 - val_loss: 0.5908 - val_accuracy: 0.8333\n",
      "Epoch 15/20\n",
      "24/24 [==============================] - 0s 2ms/step - loss: 0.5875 - accuracy: 0.8303 - val_loss: 0.5768 - val_accuracy: 0.8333\n",
      "Epoch 16/20\n",
      "24/24 [==============================] - 0s 2ms/step - loss: 0.5296 - accuracy: 0.8433 - val_loss: 0.5743 - val_accuracy: 0.8438\n",
      "Epoch 17/20\n",
      "24/24 [==============================] - 0s 2ms/step - loss: 0.5212 - accuracy: 0.8538 - val_loss: 0.5757 - val_accuracy: 0.8438\n",
      "Epoch 18/20\n",
      "24/24 [==============================] - 0s 2ms/step - loss: 0.5461 - accuracy: 0.8642 - val_loss: 0.5403 - val_accuracy: 0.8438\n",
      "Epoch 19/20\n",
      "24/24 [==============================] - 0s 2ms/step - loss: 0.5201 - accuracy: 0.8355 - val_loss: 0.5620 - val_accuracy: 0.8438\n",
      "Epoch 20/20\n",
      "24/24 [==============================] - 0s 2ms/step - loss: 0.5105 - accuracy: 0.8381 - val_loss: 0.5530 - val_accuracy: 0.8438\n"
     ]
    }
   ],
   "source": [
    "# model.fit(x = X_train,\n",
    "#         y = Y_train,\n",
    "#         batch_size = 32,\n",
    "#         epochs = 50,\n",
    "#         verbose = 2)\n",
    "history = model.fit(\n",
    "    X_train,\n",
    "    Y_train,\n",
    "    epochs=20,\n",
    "    batch_size=16,\n",
    "    validation_split=0.2,\n",
    "    verbose = 1,\n",
    "    shuffle=True,\n",
    "#     class_weight={0:weight_for_r,1:weight_for_g,2:weight_for_b}\n",
    ")"
   ]
  },
  {
   "cell_type": "code",
   "execution_count": 54,
   "metadata": {},
   "outputs": [
    {
     "name": "stdout",
     "output_type": "stream",
     "text": [
      "Model: \"sequential_4\"\n",
      "_________________________________________________________________\n",
      "Layer (type)                 Output Shape              Param #   \n",
      "=================================================================\n",
      "dense_12 (Dense)             (None, 64)                192       \n",
      "_________________________________________________________________\n",
      "dropout_8 (Dropout)          (None, 64)                0         \n",
      "_________________________________________________________________\n",
      "dense_13 (Dense)             (None, 32)                2080      \n",
      "_________________________________________________________________\n",
      "dropout_9 (Dropout)          (None, 32)                0         \n",
      "_________________________________________________________________\n",
      "dense_14 (Dense)             (None, 3)                 99        \n",
      "=================================================================\n",
      "Total params: 2,371\n",
      "Trainable params: 2,371\n",
      "Non-trainable params: 0\n",
      "_________________________________________________________________\n"
     ]
    }
   ],
   "source": [
    "model.summary()"
   ]
  },
  {
   "cell_type": "code",
   "execution_count": 55,
   "metadata": {},
   "outputs": [
    {
     "data": {
      "image/png": "[encoded data removed]",
      "text/plain": [
       "<Figure size 432x288 with 1 Axes>"
      ]
     },
     "metadata": {
      "needs_background": "light"
     },
     "output_type": "display_data"
    }
   ],
   "source": [
    "loss = history.history['loss']\n",
    "val_loss = history.history['val_loss']\n",
    "epochs = range(1, len(loss) + 1)\n",
    "plt.plot(epochs, loss, 'y', label='Training loss')\n",
    "plt.plot(epochs, val_loss, 'r', label='Validation loss')\n",
    "plt.title('Training and validation loss')\n",
    "plt.xlabel('Epochs')\n",
    "plt.ylabel('Loss')\n",
    "plt.legend()\n",
    "plt.show()"
   ]
  },
  {
   "cell_type": "code",
   "execution_count": 58,
   "metadata": {},
   "outputs": [
    {
     "data": {
      "image/png": "[encoded data removed]",
      "text/plain": [
       "<Figure size 432x288 with 1 Axes>"
      ]
     },
     "metadata": {
      "needs_background": "light"
     },
     "output_type": "display_data"
    }
   ],
   "source": [
    "acc = history.history['accuracy']\n",
    "val_acc = history.history['val_accuracy']\n",
    "plt.plot(epochs, acc, 'y', label='Training accuracy')\n",
    "plt.plot(epochs, val_acc, 'r', label='Validation accuracy')\n",
    "plt.title('Training and validation accuracy')\n",
    "plt.xlabel('Epochs')\n",
    "plt.ylabel('Accuracy')\n",
    "plt.legend()\n",
    "plt.show()"
   ]
  },
  {
   "cell_type": "code",
   "execution_count": 57,
   "metadata": {},
   "outputs": [
    {
     "data": {
      "text/plain": [
       "{'loss': [1.449915679565609,\n",
       "  1.1379430183542616,\n",
       "  0.9569629873526003,\n",
       "  0.9170128710898656,\n",
       "  0.8921728753545577,\n",
       "  0.8571074871108053,\n",
       "  0.859163685349198,\n",
       "  0.6406527956845555,\n",
       "  0.6580465713773633,\n",
       "  0.5980774777365104,\n",
       "  0.5752071522701503,\n",
       "  0.5644272873980569,\n",
       "  0.6580583314671529,\n",
       "  0.5585619043121138,\n",
       "  0.5874518740426156,\n",
       "  0.5295967913327578,\n",
       "  0.5211564372476025,\n",
       "  0.5460668830273979,\n",
       "  0.5200929920293643,\n",
       "  0.5104504350582552],\n",
       " 'accuracy': [0.6736292428198434,\n",
       "  0.7597911227154047,\n",
       "  0.7571801566579635,\n",
       "  0.7885117493472585,\n",
       "  0.783289817232376,\n",
       "  0.7806788511749347,\n",
       "  0.7859007832898173,\n",
       "  0.8067885117493473,\n",
       "  0.7911227154046997,\n",
       "  0.825065274151436,\n",
       "  0.8224543080939948,\n",
       "  0.8120104438642297,\n",
       "  0.8198433420365535,\n",
       "  0.8224543080939948,\n",
       "  0.8302872062663186,\n",
       "  0.8433420365535248,\n",
       "  0.8537859007832899,\n",
       "  0.8642297650130548,\n",
       "  0.835509138381201,\n",
       "  0.8381201044386423],\n",
       " 'val_loss': [1.4826479852199554,\n",
       "  1.2004130085309346,\n",
       "  1.1647220651308696,\n",
       "  1.12872776389122,\n",
       "  0.9032101581494013,\n",
       "  0.8776125311851501,\n",
       "  0.7932653327782949,\n",
       "  0.7328879584868749,\n",
       "  0.6656637042760849,\n",
       "  0.6806623240311941,\n",
       "  0.6632800300916036,\n",
       "  0.659544974565506,\n",
       "  0.5971994251012802,\n",
       "  0.5907710989316305,\n",
       "  0.5767891903718313,\n",
       "  0.5742892523606619,\n",
       "  0.5757142504056295,\n",
       "  0.5403076459964117,\n",
       "  0.5620278865098953,\n",
       "  0.5530329247315725],\n",
       " 'val_accuracy': [0.8229166666666666,\n",
       "  0.8229166666666666,\n",
       "  0.8229166666666666,\n",
       "  0.8229166666666666,\n",
       "  0.8229166666666666,\n",
       "  0.8229166666666666,\n",
       "  0.8229166666666666,\n",
       "  0.8229166666666666,\n",
       "  0.8229166666666666,\n",
       "  0.8229166666666666,\n",
       "  0.8229166666666666,\n",
       "  0.8229166666666666,\n",
       "  0.8229166666666666,\n",
       "  0.8333333333333334,\n",
       "  0.8333333333333334,\n",
       "  0.84375,\n",
       "  0.84375,\n",
       "  0.84375,\n",
       "  0.84375,\n",
       "  0.84375]}"
      ]
     },
     "execution_count": 57,
     "metadata": {},
     "output_type": "execute_result"
    }
   ],
   "source": [
    "history.history"
   ]
  },
  {
   "cell_type": "code",
   "execution_count": 80,
   "metadata": {},
   "outputs": [],
   "source": [
    "x = pd.concat([pd.DataFrame(model.predict(X_test), columns=['ypred']),Y_test.reset_index(drop = True)], axis=1)"
   ]
  },
  {
   "cell_type": "code",
   "execution_count": 82,
   "metadata": {},
   "outputs": [
    {
     "data": {
      "text/plain": [
       "1.0    206\n",
       "Name: ypred, dtype: int64"
      ]
     },
     "execution_count": 82,
     "metadata": {},
     "output_type": "execute_result"
    }
   ],
   "source": [
    "x.ypred.value_counts()"
   ]
  },
  {
   "cell_type": "code",
   "execution_count": null,
   "metadata": {},
   "outputs": [],
   "source": [
    "counts = np.bincount(train_targets[:, 0])\n",
    "\n",
    "weight_for_r = 1.0 / counts[0]\n",
    "weight_for_g = 1.0 / counts[1]\n",
    "weight_for_b = 1.0 / counts[1]"
   ]
  },
  {
   "cell_type": "code",
   "execution_count": null,
   "metadata": {},
   "outputs": [],
   "source": []
  }
 ],
 "metadata": {
  "kernelspec": {
   "display_name": "Python 3",
   "language": "python",
   "name": "python3"
  },
  "language_info": {
   "codemirror_mode": {
    "name": "ipython",
    "version": 3
   },
   "file_extension": ".py",
   "mimetype": "text/x-python",
   "name": "python",
   "nbconvert_exporter": "python",
   "pygments_lexer": "ipython3",
   "version": "3.7.6"
  }
 },
 "nbformat": 4,
 "nbformat_minor": 4
}

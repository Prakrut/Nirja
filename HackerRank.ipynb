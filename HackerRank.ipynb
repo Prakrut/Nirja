{
 "cells": [
  {
   "cell_type": "code",
   "execution_count": 3,
   "metadata": {},
   "outputs": [],
   "source": [
    "import pandas as pd\n",
    "import numpy as np"
   ]
  },
  {
   "cell_type": "code",
   "execution_count": 1,
   "metadata": {},
   "outputs": [],
   "source": [
    "ar = [1,1,2,2,2,3,3,3,3]"
   ]
  },
  {
   "cell_type": "code",
   "execution_count": 7,
   "metadata": {},
   "outputs": [],
   "source": [
    "df = pd.DataFrame(ar, columns= ['Colors'])"
   ]
  },
  {
   "cell_type": "code",
   "execution_count": 10,
   "metadata": {},
   "outputs": [],
   "source": [
    "pvt = pd.DataFrame(df.Colors.value_counts())"
   ]
  },
  {
   "cell_type": "code",
   "execution_count": 18,
   "metadata": {},
   "outputs": [],
   "source": [
    "pvt['Pairs'] = np.floor(pvt.Colors/2)"
   ]
  },
  {
   "cell_type": "code",
   "execution_count": 20,
   "metadata": {},
   "outputs": [
    {
     "data": {
      "text/plain": [
       "4.0"
      ]
     },
     "execution_count": 20,
     "metadata": {},
     "output_type": "execute_result"
    }
   ],
   "source": [
    "pvt.Pairs.sum()"
   ]
  },
  {
   "cell_type": "markdown",
   "metadata": {},
   "source": [
    "### https://www.hackerrank.com/challenges/sock-merchant/problem?h_l=interview&playlist_slugs%5B%5D=interview-preparation-kit&playlist_slugs%5B%5D=warmup "
   ]
  },
  {
   "cell_type": "code",
   "execution_count": 21,
   "metadata": {},
   "outputs": [],
   "source": [
    "def sockMerchant(n, ar):\n",
    "    df = pd.DataFrame(ar, columns= ['Colors'])\n",
    "    pvt = pd.DataFrame(df.Colors.value_counts())\n",
    "    pvt['Pairs'] = np.floor(pvt.Colors/2)\n",
    "    return pvt.Pairs.sum()"
   ]
  },
  {
   "cell_type": "code",
   "execution_count": 22,
   "metadata": {},
   "outputs": [
    {
     "data": {
      "text/plain": [
       "3.0"
      ]
     },
     "execution_count": 22,
     "metadata": {},
     "output_type": "execute_result"
    }
   ],
   "source": [
    "sockMerchant(9,[10, 20, 20, 10, 10, 30, 50, 10, 20])"
   ]
  },
  {
   "cell_type": "markdown",
   "metadata": {},
   "source": [
    "### https://www.hackerrank.com/challenges/write-a-function/problem "
   ]
  },
  {
   "cell_type": "code",
   "execution_count": 23,
   "metadata": {},
   "outputs": [],
   "source": [
    "def isLeap(year):\n",
    "    if year%4==0:\n",
    "        if year%100==0:\n",
    "            if year%400==0:\n",
    "                return True\n",
    "            else:\n",
    "                return False\n",
    "        else:\n",
    "            return True\n",
    "    else:\n",
    "        return False"
   ]
  },
  {
   "cell_type": "markdown",
   "metadata": {},
   "source": [
    "###  https://www.hackerrank.com/challenges/counting-valleys/problem?h_l=interview&playlist_slugs%5B%5D=interview-preparation-kit&playlist_slugs%5B%5D=warmup"
   ]
  },
  {
   "cell_type": "code",
   "execution_count": 25,
   "metadata": {},
   "outputs": [],
   "source": [
    "#!/bin/python3\n",
    "\n",
    "import math\n",
    "import os\n",
    "import random\n",
    "import re\n",
    "import sys\n",
    "\n",
    "#\n",
    "# Complete the 'countingValleys' function below.\n",
    "#\n",
    "# The function is expected to return an INTEGER.\n",
    "# The function accepts following parameters:\n",
    "#  1. INTEGER steps\n",
    "#  2. STRING path\n",
    "#\n",
    "\n",
    "def countingValleys(steps, path):\n",
    "    # Write your code here\n",
    "    \n",
    "    position = 0\n",
    "    numOfValleys = 0\n",
    "    inValley = False\n",
    "    \n",
    "    def convertStr2Code(alphabet):\n",
    "        if alphabet=='U':\n",
    "            return 1\n",
    "        else:\n",
    "            return -1\n",
    "        \n",
    "    for i, j in enumerate(list(path)):\n",
    "        position = position + int(convertStr2Code(j))\n",
    "        if position==0:\n",
    "            inValley = False\n",
    "        else:\n",
    "            pass\n",
    "        \n",
    "        if inValley:\n",
    "            pass\n",
    "        else:\n",
    "            if position < 0:\n",
    "                inValley = True\n",
    "                numOfValleys = numOfValleys + 1\n",
    "            else:\n",
    "                pass\n",
    "    \n",
    "    return numOfValleys\n",
    "            \n",
    "\n",
    "# if __name__ == '__main__':\n",
    "#     fptr = open(os.environ['OUTPUT_PATH'], 'w')\n",
    "\n",
    "#     steps = int(input().strip())\n",
    "\n",
    "#     path = input()\n",
    "\n",
    "#     result = countingValleys(steps, path)\n",
    "\n",
    "#     fptr.write(str(result) + '\\n')\n",
    "\n",
    "#     fptr.close()\n"
   ]
  },
  {
   "cell_type": "markdown",
   "metadata": {},
   "source": [
    "### https://www.hackerrank.com/challenges/jumping-on-the-clouds/problem?h_l=interview&playlist_slugs%5B%5D=interview-preparation-kit&playlist_slugs%5B%5D=warmup&h_r=next-challenge&h_v=zen "
   ]
  },
  {
   "cell_type": "code",
   "execution_count": 26,
   "metadata": {},
   "outputs": [],
   "source": [
    "#!/bin/python3\n",
    "\n",
    "import math\n",
    "import os\n",
    "import random\n",
    "import re\n",
    "import sys\n",
    "\n",
    "# Complete the jumpingOnClouds function below.\n",
    "def jumpingOnClouds(c):\n",
    "    currentState = 0\n",
    "    numOfJumps = 0\n",
    "    for i in range(len(c)):\n",
    "        if i < currentState:\n",
    "            pass\n",
    "        elif currentState==len(c)-1:\n",
    "            break\n",
    "        elif currentState<=len(c)-3:\n",
    "            if (c[currentState+2]==0):\n",
    "                currentState = currentState + 2\n",
    "                numOfJumps = numOfJumps + 1\n",
    "            else:\n",
    "                currentState = currentState + 1\n",
    "                numOfJumps = numOfJumps + 1\n",
    "        elif currentState==len(c)-1:\n",
    "            break\n",
    "        else:\n",
    "            currentState = currentState + 1\n",
    "            numOfJumps = numOfJumps + 1\n",
    "    return numOfJumps\n",
    "            \n",
    "\n",
    "# if __name__ == '__main__':\n",
    "#     fptr = open(os.environ['OUTPUT_PATH'], 'w')\n",
    "\n",
    "#     n = int(input())\n",
    "\n",
    "#     c = list(map(int, input().rstrip().split()))\n",
    "\n",
    "#     result = jumpingOnClouds(c)\n",
    "\n",
    "#     fptr.write(str(result) + '\\n')\n",
    "\n",
    "#     fptr.close()\n"
   ]
  },
  {
   "cell_type": "markdown",
   "metadata": {},
   "source": [
    "### https://www.hackerrank.com/challenges/jim-and-the-orders/forum"
   ]
  },
  {
   "cell_type": "code",
   "execution_count": 1,
   "metadata": {},
   "outputs": [
    {
     "data": {
      "text/plain": [
       "[3, 4, 5, 10, 12]"
      ]
     },
     "execution_count": 1,
     "metadata": {},
     "output_type": "execute_result"
    }
   ],
   "source": [
    "arr = [5,4,3,10,12]\n",
    "arr1 = sorted(arr)\n",
    "arr1"
   ]
  },
  {
   "cell_type": "code",
   "execution_count": 2,
   "metadata": {},
   "outputs": [
    {
     "name": "stdout",
     "output_type": "stream",
     "text": [
      "5 3\n",
      "4 4\n",
      "3 5\n",
      "10 10\n",
      "12 12\n"
     ]
    }
   ],
   "source": [
    "for i, j in zip(arr,arr1):\n",
    "    print(i,j)"
   ]
  },
  {
   "cell_type": "code",
   "execution_count": 3,
   "metadata": {},
   "outputs": [
    {
     "data": {
      "text/plain": [
       "[[3, 2], [4, 1], [5, 0]]"
      ]
     },
     "execution_count": 3,
     "metadata": {},
     "output_type": "execute_result"
    }
   ],
   "source": [
    "sorted([[5,0],[4,1],[3,2]], )"
   ]
  },
  {
   "cell_type": "code",
   "execution_count": 10,
   "metadata": {},
   "outputs": [],
   "source": [
    "def jimOrders(orders):\n",
    "\n",
    "    results = []\n",
    "    for i, j in enumerate(orders):\n",
    "        results.append([j[0]+j[1], i+1])\n",
    "    final = sorted(results)\n",
    "    op = [i[1] for i in final]\n",
    "    return op"
   ]
  },
  {
   "cell_type": "code",
   "execution_count": 12,
   "metadata": {},
   "outputs": [
    {
     "name": "stdout",
     "output_type": "stream",
     "text": [
      "[2, 3, 1]\n"
     ]
    }
   ],
   "source": [
    "jimOrders([[10,3],[2,3],[3,3]])"
   ]
  },
  {
   "cell_type": "markdown",
   "metadata": {},
   "source": [
    "### https://www.hackerrank.com/challenges/s10-quartiles/problem?h_r=email&unlock_token=428486d4d112d55ca30f7dd79fe89885f6f734d3&utm_campaign=tutorials&utm_medium=email&utm_source=daily_reminder "
   ]
  },
  {
   "cell_type": "code",
   "execution_count": 1,
   "metadata": {},
   "outputs": [],
   "source": [
    "import numpy as np\n",
    "arr = [3, 7, 8, 5, 12, 14, 21, 13,18]"
   ]
  },
  {
   "cell_type": "code",
   "execution_count": 14,
   "metadata": {},
   "outputs": [],
   "source": [
    "length = len(arr)"
   ]
  },
  {
   "cell_type": "code",
   "execution_count": 15,
   "metadata": {},
   "outputs": [
    {
     "data": {
      "text/plain": [
       "9"
      ]
     },
     "execution_count": 15,
     "metadata": {},
     "output_type": "execute_result"
    }
   ],
   "source": [
    "length"
   ]
  },
  {
   "cell_type": "code",
   "execution_count": 28,
   "metadata": {},
   "outputs": [],
   "source": [
    "lenn = int(np.floor(length/2))"
   ]
  },
  {
   "cell_type": "code",
   "execution_count": 21,
   "metadata": {},
   "outputs": [],
   "source": [
    "arr = sorted(arr)"
   ]
  },
  {
   "cell_type": "code",
   "execution_count": 31,
   "metadata": {},
   "outputs": [
    {
     "name": "stdout",
     "output_type": "stream",
     "text": [
      "5 12 14\n"
     ]
    }
   ],
   "source": [
    "print(int(np.median(arr[0:lenn-1])), arr[lenn], int(np.median(arr[lenn:])))"
   ]
  },
  {
   "cell_type": "code",
   "execution_count": 26,
   "metadata": {},
   "outputs": [
    {
     "data": {
      "text/plain": [
       "[3, 5, 7]"
      ]
     },
     "execution_count": 26,
     "metadata": {},
     "output_type": "execute_result"
    }
   ],
   "source": [
    "arr[0:3]"
   ]
  },
  {
   "cell_type": "code",
   "execution_count": 3,
   "metadata": {},
   "outputs": [
    {
     "data": {
      "text/plain": [
       "[3, 5, 7, 8, 12, 13, 14, 18, 21]"
      ]
     },
     "execution_count": 3,
     "metadata": {},
     "output_type": "execute_result"
    }
   ],
   "source": [
    "sorted([3, 7, 8, 5, 12, 14, 21, 13,18])"
   ]
  },
  {
   "cell_type": "code",
   "execution_count": 20,
   "metadata": {},
   "outputs": [],
   "source": [
    "def quartiles(arr):\n",
    "    # Write your code here\n",
    "    arr1 = sorted(arr)\n",
    "    num = len(arr1)\n",
    "    split = num//2\n",
    "    ##split2 = split//2\n",
    "    print(num)\n",
    "    print(arr1)\n",
    "    print(split)\n",
    "    def getMedian(ar):\n",
    "        lenn = len(ar)\n",
    "        split2 = lenn//2\n",
    "        \n",
    "        if lenn==1:\n",
    "            return ar[0] \n",
    "        elif lenn%2!=0:\n",
    "            return int(ar[split2]) \n",
    "        else:\n",
    "            x = (ar[split2 - 1] + ar[split2])/2\n",
    "            return int(x) if x%1==0 else x\n",
    "    if num<=1:\n",
    "        return (arr1[0],arr1[0],arr1[0])\n",
    "    elif num%2 !=0 :\n",
    "        return(getMedian(arr1[:split]), int(arr1[split]), getMedian(arr1[split+1:]))\n",
    "    else:\n",
    "        return(getMedian(arr1[:split]), getMedian(arr1[split-1:split+1]), getMedian(arr1[split:]))"
   ]
  },
  {
   "cell_type": "code",
   "execution_count": 15,
   "metadata": {},
   "outputs": [
    {
     "data": {
      "text/plain": [
       "[3, 7, 8, 5, 12, 14, 21, 15, 18, 14]"
      ]
     },
     "execution_count": 15,
     "metadata": {},
     "output_type": "execute_result"
    }
   ],
   "source": [
    "list(map(int,'3 7 8 5 12 14 21 15 18 14'.split()))"
   ]
  },
  {
   "cell_type": "code",
   "execution_count": 21,
   "metadata": {},
   "outputs": [
    {
     "name": "stdout",
     "output_type": "stream",
     "text": [
      "10\n",
      "[3, 5, 7, 8, 12, 14, 14, 15, 18, 21]\n",
      "5\n"
     ]
    },
    {
     "data": {
      "text/plain": [
       "(7, 12, 15)"
      ]
     },
     "execution_count": 21,
     "metadata": {},
     "output_type": "execute_result"
    }
   ],
   "source": [
    "quartiles([3, 7, 8, 5, 12, 14, 21, 15, 18, 14])"
   ]
  },
  {
   "cell_type": "markdown",
   "metadata": {},
   "source": [
    "### https://www.hackerrank.com/challenges/s10-weighted-mean/problem"
   ]
  },
  {
   "cell_type": "code",
   "execution_count": 24,
   "metadata": {},
   "outputs": [],
   "source": [
    "def weightedMean(X, W):\n",
    "    # Write your code here\n",
    "    print (round( sum([i*j for i,j in zip(X,W)])/sum(W) ,1))"
   ]
  },
  {
   "cell_type": "code",
   "execution_count": 25,
   "metadata": {},
   "outputs": [
    {
     "name": "stdout",
     "output_type": "stream",
     "text": [
      "32.0\n"
     ]
    }
   ],
   "source": [
    "weightedMean([10, 40, 30, 50, 20],[1, 2, 3, 4, 5])"
   ]
  },
  {
   "cell_type": "markdown",
   "metadata": {},
   "source": [
    "### https://www.hackerrank.com/challenges/s10-standard-deviation/problem "
   ]
  },
  {
   "cell_type": "code",
   "execution_count": null,
   "metadata": {},
   "outputs": [],
   "source": [
    "def stdDev(arr):\n",
    "    # Print your answers to 1 decimal place within this function\n",
    "    mean = float(sum(arr)/len(arr))\n",
    "    sumsquared = [(float(i)-mean)**2 for i in arr]\n",
    "    print (round(math.sqrt(sum(sumsquared)/len(arr)),1))"
   ]
  },
  {
   "cell_type": "markdown",
   "metadata": {},
   "source": [
    "### https://www.hackerrank.com/challenges/s10-interquartile-range/problem "
   ]
  },
  {
   "cell_type": "code",
   "execution_count": 36,
   "metadata": {},
   "outputs": [
    {
     "data": {
      "text/plain": [
       "[6, 6, 6, 6, 6, 8, 8, 8, 10, 10, 12, 12, 12, 12, 16, 16, 16, 16, 16, 20]"
      ]
     },
     "execution_count": 36,
     "metadata": {},
     "output_type": "execute_result"
    }
   ],
   "source": [
    "values = [6, 12, 8, 10, 20, 16]\n",
    "freqs = [5, 4, 3, 2, 1, 5]\n",
    "arr = []\n",
    "for i, j in zip(values, freqs):\n",
    "    arr = arr + ([i]*j)\n",
    "arr = sorted(arr)\n",
    "arr"
   ]
  },
  {
   "cell_type": "code",
   "execution_count": 34,
   "metadata": {},
   "outputs": [],
   "source": [
    "arr = arr + ([values[0]]*freqs[0])"
   ]
  },
  {
   "cell_type": "code",
   "execution_count": 35,
   "metadata": {},
   "outputs": [
    {
     "data": {
      "text/plain": [
       "[6, 6, 6, 6, 6]"
      ]
     },
     "execution_count": 35,
     "metadata": {},
     "output_type": "execute_result"
    }
   ],
   "source": [
    "arr"
   ]
  },
  {
   "cell_type": "code",
   "execution_count": 41,
   "metadata": {},
   "outputs": [],
   "source": [
    "def interQuartile(values, freqs):\n",
    "    # Print your answer to 1 decimal place within this function\n",
    "\n",
    "    \n",
    "    arr = []\n",
    "    for i, j in zip(values, freqs):\n",
    "        arr = arr + ([i]*j)\n",
    "    arr1 = sorted(arr)\n",
    "    num = len(arr1)\n",
    "    split = num//2\n",
    "\n",
    "    def getMedian(ar):\n",
    "        lenn = len(ar)\n",
    "        split2 = lenn//2\n",
    "        \n",
    "        if lenn==1:\n",
    "            return float(ar[0]) \n",
    "        elif lenn%2!=0:\n",
    "            return (ar[split2]) \n",
    "        else:\n",
    "            x = (ar[split2 - 1] + ar[split2])/2\n",
    "            return (x) if x%1==0 else x\n",
    "    if num<=1:\n",
    "        print (0.0)\n",
    "    elif num%2 !=0 :\n",
    "        print(round(abs(getMedian(arr1[:split])-getMedian(arr1[split+1:])),1))\n",
    "    else:\n",
    "        print(round(abs(getMedian(arr1[:split])-getMedian(arr1[split:])),1))"
   ]
  },
  {
   "cell_type": "code",
   "execution_count": 42,
   "metadata": {},
   "outputs": [
    {
     "name": "stdout",
     "output_type": "stream",
     "text": [
      "30\n"
     ]
    }
   ],
   "source": [
    "values = list(map(int,'10 40 30 50 20 10 40 30 50 20 1 2 3 4 5 6 7 8 9 10 20 10 40 30 50 20 10 40 30 50'.split()))\n",
    "freqs = list(map(int,'1 2 3 4 5 6 7 8 9 10 1 2 3 4 5 6 7 8 9 10 10 40 30 50 20 10 40 30 50 20'.split()))\n",
    "\n",
    "interQuartile(values,freqs)"
   ]
  },
  {
   "cell_type": "markdown",
   "metadata": {},
   "source": [
    "### https://www.hackerrank.com/challenges/s10-binomial-distribution-1/problem "
   ]
  },
  {
   "cell_type": "code",
   "execution_count": 64,
   "metadata": {},
   "outputs": [
    {
     "name": "stdout",
     "output_type": "stream",
     "text": [
      "1.09 1\n",
      "0.696\n"
     ]
    }
   ],
   "source": [
    "from itertools import permutations\n",
    "\n",
    "probs = list(map(float,input().split()))\n",
    "boyProb = probs[0]/sum(probs)\n",
    "girlProb = 1 - boyProb\n",
    "\n",
    "def multiplyList(myList) :\n",
    "     \n",
    "    # Multiply elements one by one\n",
    "    result = 1\n",
    "    for x in myList:\n",
    "         result = result * x\n",
    "    return result\n",
    "\n",
    "prob = 0\n",
    "for i in range(3,7):\n",
    "    currentComb = [] + ([boyProb]*i) + ([girlProb]*(6-i))\n",
    "    currentProb = multiplyList(currentComb)\n",
    "    \n",
    "#     print(currentComb)\n",
    "    multiply = (len(list(set(list(permutations(currentComb))))))\n",
    "    prob = prob + (multiply*currentProb)\n",
    "\n",
    "print(round(prob,3))"
   ]
  },
  {
   "cell_type": "markdown",
   "metadata": {},
   "source": [
    "### https://www.hackerrank.com/challenges/s10-binomial-distribution-2/problem "
   ]
  },
  {
   "cell_type": "code",
   "execution_count": 76,
   "metadata": {},
   "outputs": [
    {
     "name": "stdout",
     "output_type": "stream",
     "text": [
      "12 10\n",
      "0.891\n",
      "0.342\n"
     ]
    }
   ],
   "source": [
    "# Enter your code here. Read input from STDIN. Print output to STDOUT\n",
    "from itertools import permutations, combinations\n",
    "from math import factorial\n",
    "\n",
    "ip_list = list(map(int,input().split()))\n",
    "rejProb = ip_list[0]/100\n",
    "batch = ip_list[1]\n",
    "\n",
    "def n_choose_k(n, k):\n",
    "    return factorial(n)/(factorial(k) * factorial(n-k))\n",
    "\n",
    "def multiplyList(myList) :\n",
    "     \n",
    "    # Multiply elements one by one\n",
    "    result = 1\n",
    "    for x in myList:\n",
    "         result = result * x\n",
    "    return result\n",
    "\n",
    "prob = 0\n",
    "for i in range(0,3):\n",
    "    currentComb = [] + ([rejProb]*i) + ([1-rejProb]*(batch-i))\n",
    "    currentProb = multiplyList(currentComb)\n",
    "    multiply = n_choose_k(batch,i)\n",
    "    prob = prob + (multiply*currentProb)\n",
    "\n",
    "print(round(prob,3))\n",
    "\n",
    "prob = 0\n",
    "for i in range(2,11):\n",
    "    currentComb = [] + ([rejProb]*i) + ([1-rejProb]*(batch-i))\n",
    "    currentProb = multiplyList(currentComb)\n",
    "    multiply = n_choose_k(batch,i)\n",
    "    prob = prob + (multiply*currentProb)\n",
    "\n",
    "print(round(prob,3))\n"
   ]
  },
  {
   "cell_type": "markdown",
   "metadata": {},
   "source": [
    "### https://www.hackerrank.com/challenges/2d-array/problem?h_l=interview&playlist_slugs%5B%5D=interview-preparation-kit&playlist_slugs%5B%5D=arrays "
   ]
  },
  {
   "cell_type": "code",
   "execution_count": 9,
   "metadata": {},
   "outputs": [
    {
     "data": {
      "text/plain": [
       "1"
      ]
     },
     "execution_count": 9,
     "metadata": {},
     "output_type": "execute_result"
    }
   ],
   "source": [
    "6%5"
   ]
  },
  {
   "cell_type": "code",
   "execution_count": 8,
   "metadata": {},
   "outputs": [],
   "source": [
    "#!/bin/python3\n",
    "\n",
    "import math\n",
    "import os\n",
    "import random\n",
    "import re\n",
    "import sys\n",
    "\n",
    "# Complete the hourglassSum function below.\n",
    "def hourglassSum(arr):\n",
    "    maxSum = -99999\n",
    "    for row in range(4):\n",
    "        for col in range(4):\n",
    "            counter = sum(arr[row][col:col+3]) + sum(arr[row+2][col:col+3]) + int(arr[row+1][col+1])\n",
    "            # + arr[row+1][col+1][0]\n",
    "            maxSum = counter if counter > maxSum else maxSum\n",
    "    return maxSum\n",
    "\n",
    "# if __name__ == '__main__':\n",
    "#     fptr = open(os.environ['OUTPUT_PATH'], 'w')\n",
    "\n",
    "#     arr = []\n",
    "\n",
    "#     for _ in range(6):\n",
    "#         arr.append(list(map(int, input().rstrip().split())))\n",
    "\n",
    "#     result = hourglassSum(arr)\n",
    "\n",
    "#     fptr.write(str(result) + '\\n')\n",
    "\n",
    "#     fptr.close()\n"
   ]
  },
  {
   "cell_type": "markdown",
   "metadata": {},
   "source": [
    "### https://www.hackerrank.com/challenges/ctci-array-left-rotation/problem?h_l=interview&playlist_slugs%5B%5D=interview-preparation-kit&playlist_slugs%5B%5D=arrays&h_r=next-challenge&h_v=zen "
   ]
  },
  {
   "cell_type": "code",
   "execution_count": 119,
   "metadata": {},
   "outputs": [],
   "source": [
    "def minimumBribes(q):\n",
    "    # Write your code here\n",
    "\n",
    "    bribes = 0\n",
    "    blown = False\n",
    "   \n",
    "    for i in range(-1,-len(q)-1,-1):\n",
    "        if q[i]>len(q)+i+3:\n",
    "            print(\"Too chaotic\")\n",
    "            blown = True\n",
    "            break\n",
    "\n",
    "        elif i > -len(q):\n",
    "            for j in range(len(q)+i):\n",
    "                if q[j]>q[i]:\n",
    "                    bribes+=1\n",
    "\n",
    "        else:\n",
    "            pass\n",
    "\n",
    "    if blown:\n",
    "        pass\n",
    "    else:\n",
    "        print(bribes)"
   ]
  },
  {
   "cell_type": "code",
   "execution_count": 118,
   "metadata": {},
   "outputs": [],
   "source": [
    "ip = list(map(int,'2 1 5 4 3'.rstrip().split()))\n"
   ]
  },
  {
   "cell_type": "code",
   "execution_count": 120,
   "metadata": {},
   "outputs": [
    {
     "name": "stdout",
     "output_type": "stream",
     "text": [
      "4\n"
     ]
    }
   ],
   "source": [
    "minimumBribes(ip)"
   ]
  },
  {
   "cell_type": "markdown",
   "metadata": {},
   "source": [
    "### https://www.hackerrank.com/challenges/ctci-ransom-note/problem?h_l=interview&playlist_slugs%5B%5D=interview-preparation-kit&playlist_slugs%5B%5D=dictionaries-hashmaps"
   ]
  },
  {
   "cell_type": "code",
   "execution_count": 121,
   "metadata": {},
   "outputs": [],
   "source": [
    "def ransom_note(magazine, rasom):\n",
    "    d = {}\n",
    "    for word in magazine:\n",
    "        d.setdefault(word, 0)\n",
    "        d[word] += 1\n",
    "    \n",
    "    for word in ransom:\n",
    "        if word in d:\n",
    "            d[word] -= 1\n",
    "        else:\n",
    "            return False\n",
    "    \n",
    "    return all([x >= 0 for x in d.values()])"
   ]
  },
  {
   "cell_type": "code",
   "execution_count": 145,
   "metadata": {},
   "outputs": [],
   "source": [
    "magazine = list('two times three is not four'.rstrip().split())\n",
    "note = list('two times two is four'.rstrip().split())"
   ]
  },
  {
   "cell_type": "code",
   "execution_count": 147,
   "metadata": {},
   "outputs": [
    {
     "name": "stdout",
     "output_type": "stream",
     "text": [
      "No\n"
     ]
    }
   ],
   "source": [
    "magMap = {}\n",
    "for word in magazine:\n",
    "    magMap.setdefault(word,0)\n",
    "    magMap[word] += 1\n",
    "possible = True\n",
    "    \n",
    "for word in note:\n",
    "    if magMap.get(word) is None:\n",
    "        possible = False\n",
    "        break\n",
    "    elif magMap.get(word) == 0:\n",
    "        possible = False\n",
    "        break\n",
    "    elif magMap.get(word) > 0:\n",
    "        magMap[word] -= 1\n",
    "    else:\n",
    "        continue\n",
    "if possible:\n",
    "    print(\"Yes\")\n",
    "else:\n",
    "    print(\"No\")\n"
   ]
  },
  {
   "cell_type": "code",
   "execution_count": 136,
   "metadata": {},
   "outputs": [
    {
     "data": {
      "text/plain": [
       "True"
      ]
     },
     "execution_count": 136,
     "metadata": {},
     "output_type": "execute_result"
    }
   ],
   "source": [
    "import numpy as np\n",
    "magMap.get('x') is None"
   ]
  },
  {
   "cell_type": "code",
   "execution_count": 144,
   "metadata": {},
   "outputs": [
    {
     "data": {
      "text/plain": [
       "0"
      ]
     },
     "execution_count": 144,
     "metadata": {},
     "output_type": "execute_result"
    }
   ],
   "source": [
    "magMap.get('two')"
   ]
  },
  {
   "cell_type": "code",
   "execution_count": 143,
   "metadata": {},
   "outputs": [],
   "source": [
    "magMap['two'] -= 1"
   ]
  },
  {
   "cell_type": "code",
   "execution_count": 151,
   "metadata": {},
   "outputs": [
    {
     "data": {
      "text/plain": [
       "dict_keys(['two', 'times', 'three', 'is', 'not', 'four'])"
      ]
     },
     "execution_count": 151,
     "metadata": {},
     "output_type": "execute_result"
    }
   ],
   "source": [
    "magMap.keys()"
   ]
  },
  {
   "cell_type": "code",
   "execution_count": 152,
   "metadata": {},
   "outputs": [
    {
     "data": {
      "text/plain": [
       "True"
      ]
     },
     "execution_count": 152,
     "metadata": {},
     "output_type": "execute_result"
    }
   ],
   "source": [
    "'three' in magMap"
   ]
  },
  {
   "cell_type": "code",
   "execution_count": 154,
   "metadata": {},
   "outputs": [
    {
     "data": {
      "text/plain": [
       "dict_items([('two', 0), ('times', 0), ('three', 1), ('is', 1), ('not', 1), ('four', 1)])"
      ]
     },
     "execution_count": 154,
     "metadata": {},
     "output_type": "execute_result"
    }
   ],
   "source": [
    "magMap.items()"
   ]
  },
  {
   "cell_type": "code",
   "execution_count": 155,
   "metadata": {},
   "outputs": [],
   "source": [
    "del  magMap['is']"
   ]
  },
  {
   "cell_type": "code",
   "execution_count": 156,
   "metadata": {},
   "outputs": [
    {
     "data": {
      "text/plain": [
       "{'two': 0, 'times': 0, 'three': 1, 'not': 1, 'four': 1}"
      ]
     },
     "execution_count": 156,
     "metadata": {},
     "output_type": "execute_result"
    }
   ],
   "source": [
    "magMap"
   ]
  },
  {
   "cell_type": "markdown",
   "metadata": {},
   "source": [
    "### https://www.hackerrank.com/challenges/two-strings/problem?h_l=interview&playlist_slugs%5B%5D=interview-preparation-kit&playlist_slugs%5B%5D=dictionaries-hashmaps "
   ]
  },
  {
   "cell_type": "code",
   "execution_count": 163,
   "metadata": {},
   "outputs": [],
   "source": [
    "s1 = 'hi'\n",
    "s2 = 'world'"
   ]
  },
  {
   "cell_type": "code",
   "execution_count": 170,
   "metadata": {},
   "outputs": [],
   "source": [
    "def twoStrings(s1=s1, s2=s2):\n",
    "    # Write your code here\n",
    "    ans = \"YES\" if len(set(s1).intersection(set(s2))) > 0 else \"NO\"\n",
    "    print(ans)"
   ]
  },
  {
   "cell_type": "code",
   "execution_count": 171,
   "metadata": {},
   "outputs": [
    {
     "name": "stdout",
     "output_type": "stream",
     "text": [
      "NO\n"
     ]
    }
   ],
   "source": [
    "twoStrings()"
   ]
  },
  {
   "cell_type": "markdown",
   "metadata": {},
   "source": [
    "### https://www.hackerrank.com/challenges/sherlock-and-anagrams/problem?h_l=interview&playlist_slugs%5B%5D=interview-preparation-kit&playlist_slugs%5B%5D=dictionaries-hashmaps "
   ]
  },
  {
   "cell_type": "markdown",
   "metadata": {},
   "source": [
    "##### Solution\n",
    "\n",
    "https://www.thepoorcoder.com/hackerrank-sherlock-and-anagrams-solution/"
   ]
  },
  {
   "cell_type": "code",
   "execution_count": 185,
   "metadata": {},
   "outputs": [],
   "source": [
    "from collections import Counter"
   ]
  },
  {
   "cell_type": "code",
   "execution_count": 199,
   "metadata": {},
   "outputs": [],
   "source": [
    "s = 'abba'"
   ]
  },
  {
   "cell_type": "code",
   "execution_count": 200,
   "metadata": {},
   "outputs": [],
   "source": [
    "anagrams = []\n",
    "for length in range(1, len(s)):\n",
    "    for letter in range(0, len(s)+1-length):\n",
    "        anagrams.append(\"\".join(sorted(s[letter:letter+length])))\n",
    "# anagrams"
   ]
  },
  {
   "cell_type": "code",
   "execution_count": 201,
   "metadata": {},
   "outputs": [
    {
     "data": {
      "text/plain": [
       "Counter({'a': 2, 'b': 2, 'ab': 2, 'bb': 1, 'abb': 2})"
      ]
     },
     "execution_count": 201,
     "metadata": {},
     "output_type": "execute_result"
    }
   ],
   "source": [
    "Counter(anagrams)"
   ]
  },
  {
   "cell_type": "code",
   "execution_count": 204,
   "metadata": {},
   "outputs": [],
   "source": [
    "final = {k:v for k, v in Counter(anagrams).items() if v>1}"
   ]
  },
  {
   "cell_type": "code",
   "execution_count": 206,
   "metadata": {},
   "outputs": [
    {
     "data": {
      "text/plain": [
       "dict_values([2, 2, 2, 2])"
      ]
     },
     "execution_count": 206,
     "metadata": {},
     "output_type": "execute_result"
    }
   ],
   "source": [
    "final.values()"
   ]
  },
  {
   "cell_type": "code",
   "execution_count": 207,
   "metadata": {},
   "outputs": [
    {
     "data": {
      "text/plain": [
       "4"
      ]
     },
     "execution_count": 207,
     "metadata": {},
     "output_type": "execute_result"
    }
   ],
   "source": [
    "sum([sum(range(i)) for i in final.values()])"
   ]
  },
  {
   "cell_type": "markdown",
   "metadata": {},
   "source": [
    "### https://www.hackerrank.com/challenges/ctci-bubble-sort/problem?h_l=interview&playlist_slugs%5B%5D=interview-preparation-kit&playlist_slugs%5B%5D=sorting "
   ]
  },
  {
   "cell_type": "markdown",
   "metadata": {},
   "source": [
    "Here counter = number of swaps in order to get sorted array"
   ]
  },
  {
   "cell_type": "code",
   "execution_count": 214,
   "metadata": {},
   "outputs": [],
   "source": [
    "import time"
   ]
  },
  {
   "cell_type": "code",
   "execution_count": 221,
   "metadata": {},
   "outputs": [
    {
     "name": "stdout",
     "output_type": "stream",
     "text": [
      "here 4 and 2 are unsorted and hence changing\n",
      "here 2 and 6 are sorted and hence not changing\n",
      "here 2 and 3 are sorted and hence not changing\n",
      "here 2 and 10 are sorted and hence not changing\n",
      "here 2 and -5 are unsorted and hence changing\n",
      "[-5, 4, 6, 3, 10, 2]\n",
      "here 4 and 6 are sorted and hence not changing\n",
      "here 4 and 3 are unsorted and hence changing\n",
      "here 3 and 10 are sorted and hence not changing\n",
      "here 3 and 2 are unsorted and hence changing\n",
      "[-5, 2, 6, 4, 10, 3]\n",
      "here 6 and 4 are unsorted and hence changing\n",
      "here 4 and 10 are sorted and hence not changing\n",
      "here 4 and 3 are unsorted and hence changing\n",
      "[-5, 2, 3, 6, 10, 4]\n",
      "here 6 and 10 are sorted and hence not changing\n",
      "here 6 and 4 are unsorted and hence changing\n",
      "[-5, 2, 3, 4, 10, 6]\n",
      "here 10 and 6 are unsorted and hence changing\n",
      "[-5, 2, 3, 4, 6, 10]\n",
      "_______________________________\n",
      "8\n",
      "[-5, 2, 3, 4, 6, 10]\n"
     ]
    }
   ],
   "source": [
    "arr=[4,2,6,3,10,-5]\n",
    "counter = 0\n",
    "for i in range(0, len(arr)-1):\n",
    "    for j in range(i+1, len(arr)):\n",
    "        if arr[i] > arr[j]:\n",
    "            print(\"here {} and {} are unsorted and hence changing\".format(arr[i], arr[j]))\n",
    "#             time.sleep(0.5)\n",
    "            arr[j], arr[i] = arr[i], arr[j]\n",
    "            counter += 1\n",
    "        else:\n",
    "            print(\"here {} and {} are sorted and hence not changing\".format(arr[i], arr[j]))\n",
    "    print(arr)\n",
    "print(\"_______________________________\")\n",
    "print(counter)            \n",
    "print(arr)            "
   ]
  },
  {
   "cell_type": "markdown",
   "metadata": {},
   "source": [
    "### https://www.hackerrank.com/challenges/mark-and-toys/problem?h_l=interview&playlist_slugs%5B%5D=interview-preparation-kit&playlist_slugs%5B%5D=sorting "
   ]
  },
  {
   "cell_type": "code",
   "execution_count": null,
   "metadata": {},
   "outputs": [],
   "source": [
    "def maximumToys(prices, k):\n",
    "    # Write your code here\n",
    "    prices = sorted(prices)\n",
    "    amount = k\n",
    "    toys = 0\n",
    "    for i in prices:\n",
    "        if amount > i:\n",
    "            amount-=i\n",
    "            toys+=1\n",
    "        else:\n",
    "            break\n",
    "    return toys"
   ]
  }
 ],
 "metadata": {
  "kernelspec": {
   "display_name": "Python 3",
   "language": "python",
   "name": "python3"
  },
  "language_info": {
   "codemirror_mode": {
    "name": "ipython",
    "version": 3
   },
   "file_extension": ".py",
   "mimetype": "text/x-python",
   "name": "python",
   "nbconvert_exporter": "python",
   "pygments_lexer": "ipython3",
   "version": "3.7.6"
  }
 },
 "nbformat": 4,
 "nbformat_minor": 4
}
